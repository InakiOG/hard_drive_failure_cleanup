{
 "cells": [
  {
   "cell_type": "markdown",
   "metadata": {},
   "source": [
    "# Proyecto de limpieza de datos\n",
    "Autor: Iñaki Sebastián Orozco García    \n",
    "\n",
    "Fecha: 24/11/2024"
   ]
  },
  {
   "cell_type": "markdown",
   "metadata": {},
   "source": [
    "Para este proyecto usaré un dataset de BackBlaze una empresa de servidores que lleva años recabando la información S.M.A.R.T (Métricas estandarizadas de evaluación) de los discos duros de sus equipos con el atributo agregado Failure que indica si ese disco falló al día siguiente, este dataset es en el que he estado trabajando en mi proyecto de tesis para hacer predicciones de fallas con un árbol de decisión y una LSTM. \n",
    "\n",
    "Los 3 puntos en los que trabajaré en este proyecto giran en torno a un buen desempeño usando este set de datos en esos dos algoritmos (DT, LSTM) donde ya hay un trabajo previo en donde se buscó un set de datos que tuviera buen desempeño y se encontró que los mejores atributos son los presentes en varios documentos del estado del arte, son los siguientes:\n",
    "[SMART Attribute list](https://en.wikipedia.org/wiki/Self-Monitoring,_Analysis_and_Reporting_Technology)\n",
    "| ID # | Attribute Name                     | Column Index | Column Name                |\n",
    "|------|------------------------------------|--------------|----------------------------|\n",
    "| 1    | Raw Read Error Rate                | 11           | smart_1_normalized         |\n",
    "| 3    | Spin Up Time                       | 13           | smart_3_normalized         |\n",
    "| 5    | Reallocated Sectors Count          | 17           | smart_5_normalized         |\n",
    "| 7    | Seek Error Rate                    | 21           | smart_7_normalized         |\n",
    "| 9    | Power On Hours                     | 25           | smart_9_normalized         |\n",
    "| 187  | Reported Uncorrectable Errors      | 187          | smart_187_normalized       |\n",
    "| 189  | High Fly Writes                    | 191          | smart_189_normalized       |\n",
    "| 194  | Temperature Celsius                | 195          | smart_194_normalized       |\n",
    "| 195  | Hardware ECC Recovered             | 197          | smart_195_normalized       |\n",
    "| 197  | Current Pending Sector Count       | 199          | smart_197_normalized       |\n",
    "| 5    | Reallocated Sectors Count (raw value) | 18        | smart_5_raw                |\n",
    "| 197  | Current Pending Sector Count (raw value) | 200    | smart_197_raw              |\n"
   ]
  },
  {
   "cell_type": "code",
   "execution_count": 228,
   "metadata": {},
   "outputs": [],
   "source": [
    "S_O_T_A_features = [f\"smart_{i}_normalized\" for i in [1, 3, 5, 7, 9, 187, 189, 194, 195, 197]]\n",
    "S_O_T_A_features += [\"smart_5_raw\", \"smart_197_raw\"]"
   ]
  },
  {
   "cell_type": "markdown",
   "metadata": {},
   "source": [
    "- Imputación de datos faltantes             <- Elegida \n",
    "- Codificación de variables categóricas     <- Elegida\n",
    "- Transformación de potencia\n",
    "- Escalamiento                              <- Elegida\n",
    "- Discretización"
   ]
  },
  {
   "cell_type": "markdown",
   "metadata": {},
   "source": [
    "Esto es lo que se hará con las columnas del dataframe:\n",
    "\n",
    "- date: Nada, nos sirve para la LSTM.\n",
    "- serial_number: Variable categórica.\n",
    "- model: Variable categórica, se va a dividir dos variables: Empresa y modelo.\n",
    "- capacity_bytes: Variable categórica.\n",
    "- failure: Nada.\n",
    "---------\n",
    "- datacenter: Eliminarla, no es reelevante para nosotros le sirve a la empresa que comparte el set de datos.\n",
    "- cluster_id: Eliminarla, no es reelevante para nosotros le sirve a la empresa que comparte el set de datos.\n",
    "- vault_id: Eliminarla, no es reelevante para nosotros le sirve a la empresa que comparte el set de datos.\n",
    "- pod_id: Eliminarla, no es reelevante para nosotros le sirve a la empresa que comparte el set de datos.\n",
    "- pod_slot_num: Eliminarla, no es reelevante para nosotros le sirve a la empresa que comparte el set de datos.\n",
    "- is_legacy_format: Eliminarla, no es reelevante para nosotros le sirve a la empresa que comparte el set de datos.\n",
    "--------\n",
    "\n",
    "y también los smart que son de dos tipos:\n",
    "- smart_normalized: PENDIENTE\n",
    "- smart_raw: PENDIENTE"
   ]
  },
  {
   "cell_type": "markdown",
   "metadata": {},
   "source": [
    "# Procesamiento inicial "
   ]
  },
  {
   "cell_type": "markdown",
   "metadata": {},
   "source": [
    "### Importar el set de datos en un dataframe de pandas"
   ]
  },
  {
   "cell_type": "code",
   "execution_count": 229,
   "metadata": {},
   "outputs": [],
   "source": [
    "import pandas as pd\n",
    "import os\n",
    "import matplotlib.pyplot as plt\n",
    "import numpy as np\n",
    "import seaborn as sns\n",
    "\n",
    "from feature_engine.imputation import RandomSampleImputer"
   ]
  },
  {
   "cell_type": "markdown",
   "metadata": {},
   "source": [
    "Como nuestro dataset tiene muchos datos, definiré unas funciones para procesar los datos en chunks eliminando las columnas que no nos interesan sin cargarlas al df."
   ]
  },
  {
   "cell_type": "code",
   "execution_count": 273,
   "metadata": {},
   "outputs": [],
   "source": [
    "def process_chunks(file_path):\n",
    "    chunksize = 10 ** 6\n",
    "    dtype_dict = {'date': 'str', 'serial_number': 'str', 'model': 'str', 'capacity_bytes': 'object', 'failure': 'bool', 'datacenter': 'str', 'cluster_id': 'int8', 'vault_id': 'int16', 'pod_id': 'int16', 'pod_slot_num': 'float32', 'is_legacy_format': 'bool', 'smart_1_normalized': 'float64', 'smart_1_raw': 'float64', 'smart_2_normalized': 'float64', 'smart_2_raw': 'float64', 'smart_3_normalized': 'float64', 'smart_3_raw': 'float64', 'smart_4_normalized': 'float64', 'smart_4_raw': 'float64', 'smart_5_normalized': 'float64', 'smart_5_raw': 'float64', 'smart_7_normalized': 'float64', 'smart_7_raw': 'float64', 'smart_8_normalized': 'float64', 'smart_8_raw': 'float64', 'smart_9_normalized': 'float64', 'smart_9_raw': 'float64', 'smart_10_normalized': 'float64', 'smart_10_raw': 'float64', 'smart_11_normalized': 'float64', 'smart_11_raw': 'float64', 'smart_12_normalized': 'float64', 'smart_12_raw': 'float64', 'smart_13_normalized': 'float64', 'smart_13_raw': 'float64', 'smart_15_normalized': 'float64', 'smart_15_raw': 'float64', 'smart_16_normalized': 'float64', 'smart_16_raw': 'float64', 'smart_17_normalized': 'float64', 'smart_17_raw': 'float64', 'smart_18_normalized': 'float64', 'smart_18_raw': 'float64', 'smart_22_normalized': 'float64', 'smart_22_raw': 'float64', 'smart_23_normalized': 'float64', 'smart_23_raw': 'float64', 'smart_24_normalized': 'float64', 'smart_24_raw': 'float64', 'smart_27_normalized': 'float64', 'smart_27_raw': 'float64', 'smart_71_normalized': 'float64', 'smart_71_raw': 'float64', 'smart_82_normalized': 'float64', 'smart_82_raw': 'float64', 'smart_90_normalized': 'float64', 'smart_90_raw': 'float64', 'smart_160_normalized': 'float64', 'smart_160_raw': 'float64', 'smart_161_normalized': 'float64', 'smart_161_raw': 'float64', 'smart_163_normalized': 'float64', 'smart_163_raw': 'float64', 'smart_164_normalized': 'float64', 'smart_164_raw': 'float64', 'smart_165_normalized': 'float64', 'smart_165_raw': 'float64', 'smart_166_normalized': 'float64', 'smart_166_raw': 'float64', 'smart_167_normalized': 'float64', 'smart_167_raw': 'float64', 'smart_168_normalized': 'float64', 'smart_168_raw': 'float64', 'smart_169_normalized': 'float64', 'smart_169_raw': 'float64', 'smart_170_normalized': 'float64', 'smart_170_raw': 'float64', 'smart_171_normalized': 'float64', 'smart_171_raw': 'float64', 'smart_172_normalized': 'float64', 'smart_172_raw': 'float64', 'smart_173_normalized': 'float64', 'smart_173_raw': 'float64', 'smart_174_normalized': 'float64', 'smart_174_raw': 'float64', 'smart_175_normalized': 'float64', 'smart_175_raw': 'float64', 'smart_176_normalized': 'float64', 'smart_176_raw': 'float64', 'smart_177_normalized': 'float64', 'smart_177_raw': 'float64', 'smart_178_normalized': 'float64', 'smart_178_raw': 'float64', 'smart_179_normalized': 'float64', 'smart_179_raw': 'float64', 'smart_180_normalized': 'float64', 'smart_180_raw': 'float64', 'smart_181_normalized': 'float64', 'smart_181_raw': 'float64', 'smart_182_normalized': 'float64', 'smart_182_raw': 'float64', 'smart_183_normalized': 'float64', 'smart_183_raw': 'float64', 'smart_184_normalized': 'float64', 'smart_184_raw': 'float64', 'smart_187_normalized': 'float64', 'smart_187_raw': 'float64', 'smart_188_normalized': 'float64', 'smart_188_raw': 'float64', 'smart_189_normalized': 'float64', 'smart_189_raw': 'float64', 'smart_190_normalized': 'float64', 'smart_190_raw': 'float64', 'smart_191_normalized': 'float64', 'smart_191_raw': 'float64', 'smart_192_normalized': 'float64', 'smart_192_raw': 'float64', 'smart_193_normalized': 'float64', 'smart_193_raw': 'float64', 'smart_194_normalized': 'float64', 'smart_194_raw': 'float64', 'smart_195_normalized': 'float64', 'smart_195_raw': 'float64', 'smart_196_normalized': 'float64', 'smart_196_raw': 'float64', 'smart_197_normalized': 'float64', 'smart_197_raw': 'float64', 'smart_198_normalized': 'float64', 'smart_198_raw': 'float64', 'smart_199_normalized': 'float64', 'smart_199_raw': 'float64', 'smart_200_normalized': 'float64', 'smart_200_raw': 'float64', 'smart_201_normalized': 'float64', 'smart_201_raw': 'float64', 'smart_202_normalized': 'float64', 'smart_202_raw': 'float64', 'smart_206_normalized': 'float64', 'smart_206_raw': 'float64', 'smart_210_normalized': 'float64', 'smart_210_raw': 'float64', 'smart_218_normalized': 'float64', 'smart_218_raw': 'float64', 'smart_220_normalized': 'float64', 'smart_220_raw': 'float64', 'smart_222_normalized': 'float64', 'smart_222_raw': 'float64', 'smart_223_normalized': 'float64', 'smart_223_raw': 'float64', 'smart_224_normalized': 'float64', 'smart_224_raw': 'float64', 'smart_225_normalized': 'float64', 'smart_225_raw': 'float64', 'smart_226_normalized': 'float64', 'smart_226_raw': 'float64', 'smart_230_normalized': 'float64', 'smart_230_raw': 'float64', 'smart_231_normalized': 'float64', 'smart_231_raw': 'float64', 'smart_232_normalized': 'float64', 'smart_232_raw': 'float64', 'smart_233_normalized': 'float64', 'smart_233_raw': 'float64', 'smart_234_normalized': 'float64', 'smart_234_raw': 'float64', 'smart_235_normalized': 'float64', 'smart_235_raw': 'float64', 'smart_240_normalized': 'float64', 'smart_240_raw': 'float64', 'smart_241_normalized': 'float64', 'smart_241_raw': 'float64', 'smart_242_normalized': 'float64', 'smart_242_raw': 'float64', 'smart_244_normalized': 'float64', 'smart_244_raw': 'float64', 'smart_245_normalized': 'float64', 'smart_245_raw': 'float64', 'smart_246_normalized': 'float64', 'smart_246_raw': 'float64', 'smart_247_normalized': 'float64', 'smart_247_raw': 'float64', 'smart_248_normalized': 'float64', 'smart_248_raw': 'float64', 'smart_250_normalized': 'float64', 'smart_250_raw': 'float64', 'smart_251_normalized': 'float64', 'smart_251_raw': 'float64', 'smart_252_normalized': 'float64', 'smart_252_raw': 'float64', 'smart_254_normalized': 'float64', 'smart_254_raw': 'float64', 'smart_255_normalized': 'float64', 'smart_255_raw': 'float64', 'capacity_gb': 'float64'}\n",
    "    aggregated_result = pd.DataFrame() \n",
    "\n",
    "    for chunk in pd.read_csv(file_path, chunksize=chunksize, dtype=dtype_dict):\n",
    "        chunk = delete_rows(chunk)\n",
    "        aggregated_result = pd.concat([aggregated_result, chunk])\n",
    "\n",
    "    return aggregated_result\n",
    "\n",
    "def delete_rows(df):\n",
    "    df.head()\n",
    "    columns_to_delete = ['datacenter', 'cluster_id', 'vault_id', 'pod_id', 'pod_slot_num', 'is_legacy_format']\n",
    "    columns_to_delete += [col for col in df.columns if col.startswith('smart') and col not in S_O_T_A_features]\n",
    "    df = df.drop(columns=columns_to_delete)\n",
    "    return df\n",
    "\n",
    "\n",
    "def getdata(folder_path, num_files):\n",
    "    df = pd.DataFrame()\n",
    "    for idx, file_name in enumerate(os.listdir(folder_path)):\n",
    "        if num_files == -1:\n",
    "            if file_name.endswith(\".csv\"):\n",
    "                file_path = os.path.join(folder_path, file_name)\n",
    "                temp_df = process_chunks(file_path)\n",
    "                df = pd.concat([df, temp_df])\n",
    "                print(file_path, ' done')\n",
    "        elif num_files > 0:\n",
    "            if num_files == idx-1:\n",
    "                return df\n",
    "            if file_name.endswith(\".csv\"):\n",
    "                file_path = os.path.join(folder_path, file_name)\n",
    "                temp_df = process_chunks(file_path)\n",
    "                df = pd.concat([df, temp_df])\n",
    "                print(file_path, ' done')\n",
    "    print(df.columns)\n",
    "    return df"
   ]
  },
  {
   "cell_type": "markdown",
   "metadata": {},
   "source": [
    "Cargamos los datos en el df sin las columnas innecesarias"
   ]
  },
  {
   "cell_type": "code",
   "execution_count": 231,
   "metadata": {},
   "outputs": [
    {
     "name": "stdout",
     "output_type": "stream",
     "text": [
      "../data/external/data_Q3_2024/data_Q3_2024\\2024-07-01.csv  done\n",
      "../data/external/data_Q3_2024/data_Q3_2024\\2024-07-02.csv  done\n",
      "../data/external/data_Q3_2024/data_Q3_2024\\2024-07-03.csv  done\n",
      "../data/external/data_Q3_2024/data_Q3_2024\\2024-07-04.csv  done\n",
      "../data/external/data_Q3_2024/data_Q3_2024\\2024-07-05.csv  done\n",
      "../data/external/data_Q3_2024/data_Q3_2024\\2024-07-06.csv  done\n",
      "../data/external/data_Q3_2024/data_Q3_2024\\2024-07-07.csv  done\n",
      "../data/external/data_Q3_2024/data_Q3_2024\\2024-07-08.csv  done\n",
      "../data/external/data_Q3_2024/data_Q3_2024\\2024-07-09.csv  done\n",
      "../data/external/data_Q3_2024/data_Q3_2024\\2024-07-10.csv  done\n"
     ]
    }
   ],
   "source": [
    "folder_path = '../data/external/data_Q3_2024/data_Q3_2024'\n",
    "\n",
    "df = getdata(folder_path, 10)"
   ]
  },
  {
   "cell_type": "markdown",
   "metadata": {},
   "source": [
    "### Analizamos el dataframe "
   ]
  },
  {
   "cell_type": "markdown",
   "metadata": {},
   "source": [
    "Generamos un varias gráficas de mapas de calor para visualizar el df y los atributos nulos que tiene."
   ]
  },
  {
   "cell_type": "code",
   "execution_count": 232,
   "metadata": {},
   "outputs": [
    {
     "data": {
      "image/png": "[encoded data removed]",
      "text/plain": [
       "<Figure size 640x480 with 1 Axes>"
      ]
     },
     "metadata": {},
     "output_type": "display_data"
    }
   ],
   "source": [
    "sns.heatmap(df.isnull(), cbar=False)\n",
    "plt.tight_layout()  # Adjust the layout to ensure nothing is cut off\n",
    "plt.show()\n",
    "plt.savefig(f'../reports/figures/heat_maps/heat_map_.png')\n",
    "plt.close()"
   ]
  },
  {
   "cell_type": "markdown",
   "metadata": {},
   "source": [
    "Podemos ver esas 3 variables que tienen muchos datos nulos, pero como ya vimos que nuestro modelo del arbol de decisión tiene buen desempeño incluso con tantos datos faltantes intentaremos trabajar con ellas"
   ]
  },
  {
   "cell_type": "markdown",
   "metadata": {},
   "source": [
    "Ahora eliminaremos las columnas que solo tienen datos faltantes."
   ]
  },
  {
   "cell_type": "code",
   "execution_count": 233,
   "metadata": {},
   "outputs": [
    {
     "name": "stdout",
     "output_type": "stream",
     "text": [
      "Columns with only NaN values: []\n"
     ]
    }
   ],
   "source": [
    "nan_columns = df.columns[df.isna().all()].tolist()\n",
    "print(f\"Columns with only NaN values: {nan_columns}\")\n",
    "\n",
    "df = df.drop(columns=nan_columns)"
   ]
  },
  {
   "cell_type": "markdown",
   "metadata": {},
   "source": [
    "Imprimimos las columnas y los elementos que más aparecen para hacernos una idea de que que haremos con los distintos datos."
   ]
  },
  {
   "cell_type": "code",
   "execution_count": 234,
   "metadata": {},
   "outputs": [
    {
     "name": "stdout",
     "output_type": "stream",
     "text": [
      "Column: date\n",
      "Top 3 most occurring elements: dict_keys(['2024-07-10', '2024-07-01', '2024-07-04'])\n",
      "Number of NaN values: 0\n",
      "\n",
      "\n",
      "Column: serial_number\n",
      "Top 3 most occurring elements: dict_keys(['PL1331LAGXN3AH', '8160A0RSFVKG', '8160A0YNFVKG'])\n",
      "Number of NaN values: 0\n",
      "\n",
      "\n",
      "Column: model\n",
      "Top 3 most occurring elements: dict_keys(['TOSHIBA MG08ACA16TA', 'TOSHIBA MG07ACA14TA', 'ST16000NM001G'])\n",
      "Number of NaN values: 0\n",
      "\n",
      "\n",
      "Column: capacity_bytes\n",
      "Top 3 most occurring elements: dict_keys([16000900661248, 12000138625024, 14000519643136])\n",
      "Number of NaN values: 0\n",
      "\n",
      "\n",
      "Column: failure\n",
      "Top 3 most occurring elements: dict_keys([False, True])\n",
      "Number of NaN values: 0\n",
      "\n",
      "\n",
      "Column: smart_1_normalized\n",
      "Top 3 most occurring elements: dict_keys([100.0, 83.0, 82.0])\n",
      "Number of NaN values: 7336\n",
      "\n",
      "\n",
      "Column: smart_3_normalized\n",
      "Top 3 most occurring elements: dict_keys([100.0, 84.0, 90.0])\n",
      "Number of NaN values: 33734\n",
      "\n",
      "\n",
      "Column: smart_5_normalized\n",
      "Top 3 most occurring elements: dict_keys([100.0, 99.0, 252.0])\n",
      "Number of NaN values: 23156\n",
      "\n",
      "\n",
      "Column: smart_5_raw\n",
      "Top 3 most occurring elements: dict_keys([0.0, 8.0, 1.0])\n",
      "Number of NaN values: 23156\n",
      "\n",
      "\n",
      "Column: smart_7_normalized\n",
      "Top 3 most occurring elements: dict_keys([100.0, 89.0, 88.0])\n",
      "Number of NaN values: 33734\n",
      "\n",
      "\n",
      "Column: smart_9_normalized\n",
      "Top 3 most occurring elements: dict_keys([100.0, 96.0, 98.0])\n",
      "Number of NaN values: 4500\n",
      "\n",
      "\n",
      "Column: smart_187_normalized\n",
      "Top 3 most occurring elements: dict_keys([100.0, 97.0, 99.0])\n",
      "Number of NaN values: 1806948\n",
      "\n",
      "\n",
      "Column: smart_189_normalized\n",
      "Top 3 most occurring elements: dict_keys([100.0, 1.0, 96.0])\n",
      "Number of NaN values: 2621852\n",
      "\n",
      "\n",
      "Column: smart_194_normalized\n",
      "Top 3 most occurring elements: dict_keys([100.0, 36.0, 29.0])\n",
      "Number of NaN values: 4500\n",
      "\n",
      "\n",
      "Column: smart_195_normalized\n",
      "Top 3 most occurring elements: dict_keys([1.0, 2.0, 83.0])\n",
      "Number of NaN values: 2426672\n",
      "\n",
      "\n",
      "Column: smart_197_normalized\n",
      "Top 3 most occurring elements: dict_keys([100.0, 252.0, 200.0])\n",
      "Number of NaN values: 86002\n",
      "\n",
      "\n",
      "Column: smart_197_raw\n",
      "Top 3 most occurring elements: dict_keys([0.0, 8.0, 1.0])\n",
      "Number of NaN values: 86002\n",
      "\n",
      "\n"
     ]
    }
   ],
   "source": [
    "for column in df.columns:\n",
    "    print(f\"Column: {column}\")\n",
    "    print(f\"Top 3 most occurring elements: {df[column].value_counts().head(3).to_dict().keys()}\")\n",
    "    print(f\"Number of NaN values: {df[column].isna().sum()}\")\n",
    "    print(\"\\n\")"
   ]
  },
  {
   "cell_type": "markdown",
   "metadata": {},
   "source": [
    "Podemos ver que las columnas con variables categóricas no tienen variables faltantes, vamos a trabajar solo reemplazando datos faltantes con las variables numéricas que pertenecen a los atributos S.M.A.R.T, hay normalizadas y crudas."
   ]
  },
  {
   "cell_type": "code",
   "execution_count": 235,
   "metadata": {},
   "outputs": [
    {
     "name": "stdout",
     "output_type": "stream",
     "text": [
      "Column: smart_1_normalized, NaN values: 7336\n",
      "Column: smart_3_normalized, NaN values: 33734\n",
      "Column: smart_5_normalized, NaN values: 23156\n",
      "Column: smart_5_raw, NaN values: 23156\n",
      "Column: smart_7_normalized, NaN values: 33734\n",
      "Column: smart_9_normalized, NaN values: 4500\n",
      "Column: smart_187_normalized, NaN values: 1806948\n",
      "Column: smart_189_normalized, NaN values: 2621852\n",
      "Column: smart_194_normalized, NaN values: 4500\n",
      "Column: smart_195_normalized, NaN values: 2426672\n",
      "Column: smart_197_normalized, NaN values: 86002\n",
      "Column: smart_197_raw, NaN values: 86002\n"
     ]
    }
   ],
   "source": [
    "for column in df.columns:\n",
    "    nan_count = df[column].isna().sum()\n",
    "    if nan_count > 0:\n",
    "        print(f\"Column: {column}, NaN values: {nan_count}\")"
   ]
  },
  {
   "cell_type": "markdown",
   "metadata": {},
   "source": [
    "# Imputación de datos faltantes\n",
    "----------\n",
    "[Tratamiento de datos faltantes](D:/Downloads/Tratamiento_de_datos_faltantes_PDF.pdf)\n",
    "\n",
    "La moda se usa para imputar predictores cualitativos (Variables categóricas) y el promedio o la mediana se usa para imputar predictores\n",
    "cuantitativos (Variables numéricas)."
   ]
  },
  {
   "cell_type": "markdown",
   "metadata": {},
   "source": [
    "### Variables categóricas\n",
    "\n",
    "Variables categóricas con elementos NaN del dataset: ninguna"
   ]
  },
  {
   "cell_type": "code",
   "execution_count": 236,
   "metadata": {},
   "outputs": [
    {
     "name": "stdout",
     "output_type": "stream",
     "text": [
      "date              0\n",
      "serial_number     0\n",
      "model             0\n",
      "capacity_bytes    0\n",
      "failure           0\n",
      "dtype: int64\n"
     ]
    }
   ],
   "source": [
    "nan_counts = df.iloc[:, :5].isna().sum()\n",
    "print(nan_counts)"
   ]
  },
  {
   "cell_type": "markdown",
   "metadata": {},
   "source": [
    "### Variables numéricas\n",
    "Evaluamos la distribución:\n",
    "\n",
    "En una distribución uniforme, el método a emplear debe ser la sustitución aleatoria; en cambio, si la distribución es semejante a la normal, es decir, simétrica y curtósis mayor a -1.0, si la variable muestra datos atípicos, se\n",
    "aplica la sustitución por mediana, ya que esta medida de tendencia central no varía en la presencia de tales valores;\n",
    "de lo contrario, se usa la sustitución por media aritmética"
   ]
  },
  {
   "cell_type": "code",
   "execution_count": 237,
   "metadata": {},
   "outputs": [],
   "source": [
    "output_dir = '../reports/figures/histogramas/'\n",
    "os.makedirs(output_dir, exist_ok=True)\n",
    "\n",
    "# Crear histogramas para las columnas 6 en adelante\n",
    "for column in df.columns[5:]:\n",
    "    plt.figure(figsize=(10, 6))\n",
    "    df[column].dropna().hist(bins=50)\n",
    "    plt.title(f'Histograma de {column}')\n",
    "    plt.xlabel(column)\n",
    "    plt.ylabel('Frecuencia')\n",
    "    plt.savefig(f'{output_dir}{column}_histograma.png')\n",
    "    plt.close()"
   ]
  },
  {
   "cell_type": "markdown",
   "metadata": {},
   "source": [
    "Sustitución aleatoria (Kurtosis menor a -1.0 y distribución uniforme)"
   ]
  },
  {
   "cell_type": "code",
   "execution_count": 238,
   "metadata": {},
   "outputs": [
    {
     "name": "stdout",
     "output_type": "stream",
     "text": [
      "Columnas con kurtosis menor a -1.0: ['smart_195_normalized']\n"
     ]
    },
    {
     "data": {
      "image/png": "[encoded data removed]",
      "text/plain": [
       "<Figure size 1000x600 with 1 Axes>"
      ]
     },
     "metadata": {},
     "output_type": "display_data"
    }
   ],
   "source": [
    "df_smart = df.iloc[:, 5:]\n",
    "kurtosis_columns = [col for col in df_smart.columns if df_smart[col].kurtosis() < -1.0]\n",
    "print(f\"Columnas con kurtosis menor a -1.0: {kurtosis_columns}\")\n",
    "# Plot the column with kurtosis less than -1.0\n",
    "for col in kurtosis_columns:\n",
    "    plt.figure(figsize=(10, 6))\n",
    "    df[col].dropna().hist(bins=50)\n",
    "    plt.title(f'Histograma de {col}')\n",
    "    plt.xlabel(col)\n",
    "    plt.ylabel('Frecuencia')\n",
    "    plt.savefig(f'../reports/figures/histogramas/{col}_histograma.png')\n",
    "    plt.tight_layout()\n",
    "    plt.show()\n",
    "    plt.close()\n"
   ]
  },
  {
   "cell_type": "markdown",
   "metadata": {},
   "source": [
    "#### Analizamos en búsqueda de datos atípicos:"
   ]
  },
  {
   "cell_type": "markdown",
   "metadata": {},
   "source": [
    "Con el IQR vemos que columnas tienen anomalías y las guardamos en un diccionario"
   ]
  },
  {
   "cell_type": "code",
   "execution_count": 239,
   "metadata": {},
   "outputs": [
    {
     "name": "stdout",
     "output_type": "stream",
     "text": [
      "Outliers in column smart_1_normalized: 1364\n",
      "Outliers in column smart_3_normalized: 185803\n",
      "Outliers in column smart_5_normalized: 10299\n",
      "Outliers in column smart_5_raw: 109682\n",
      "Outliers in column smart_7_normalized: 17378\n",
      "Outliers in column smart_9_normalized: 0\n",
      "Outliers in column smart_187_normalized: 40631\n",
      "Outliers in column smart_189_normalized: 10790\n",
      "Outliers in column smart_194_normalized: 96346\n",
      "Outliers in column smart_197_normalized: 3595\n",
      "Outliers in column smart_197_raw: 37964\n"
     ]
    }
   ],
   "source": [
    "# Calcular el rango intercuartílico (IQR) para las columnas 6 en adelante\n",
    "iqr_values = {}\n",
    "outliers_dict = {}\n",
    "no_kurtosis_df = df.drop(columns=kurtosis_columns)\n",
    "for column in no_kurtosis_df.columns[5:]:\n",
    "    Q1 = df[column].quantile(0.25)\n",
    "    Q3 = df[column].quantile(0.75)\n",
    "    IQR = Q3 - Q1\n",
    "    iqr_values[column] = IQR\n",
    "    outliers = df[(df[column] < (Q1 - 1.5 * IQR)) | (df[column] > (Q3 + 1.5 * IQR))]\n",
    "    print(f\"Outliers in column {column}: {outliers.shape[0]}\")\n",
    "    if not outliers.empty:\n",
    "        outliers_dict[column] = outliers"
   ]
  },
  {
   "cell_type": "markdown",
   "metadata": {},
   "source": [
    "Creamos el diccionario para sustituir los valores nulos"
   ]
  },
  {
   "cell_type": "code",
   "execution_count": 240,
   "metadata": {},
   "outputs": [
    {
     "name": "stdout",
     "output_type": "stream",
     "text": [
      "{'smart_1_normalized': 100.0, 'smart_3_normalized': 97.0, 'smart_5_normalized': 100.0, 'smart_5_raw': 0.0, 'smart_7_normalized': 100.0, 'smart_9_normalized': 74.0, 'smart_187_normalized': 100.0, 'smart_189_normalized': 100.0, 'smart_194_normalized': 61.0, 'smart_197_normalized': 100.0, 'smart_197_raw': 0.0}\n"
     ]
    }
   ],
   "source": [
    "valores = {}\n",
    "for column in df.columns[5:]:\n",
    "    if column not in kurtosis_columns:\n",
    "        if column in outliers:\n",
    "            valores[column] = df[column].median()\n",
    "        else:\n",
    "            valores[column] = df[column].mean()\n",
    "\n",
    "print(valores)"
   ]
  },
  {
   "cell_type": "code",
   "execution_count": 241,
   "metadata": {},
   "outputs": [
    {
     "name": "stdout",
     "output_type": "stream",
     "text": [
      "Number of columns with NaN values: 1\n"
     ]
    }
   ],
   "source": [
    "df=df.fillna(valores)\n",
    "num_columns_with_nan = df.isna().any().sum()\n",
    "print(f\"Number of columns with NaN values: {num_columns_with_nan}\")"
   ]
  },
  {
   "cell_type": "code",
   "execution_count": 242,
   "metadata": {},
   "outputs": [
    {
     "name": "stdout",
     "output_type": "stream",
     "text": [
      "Number of columns with NaN values: 0\n"
     ]
    }
   ],
   "source": [
    "\n",
    "aleatorio=RandomSampleImputer()\n",
    "for column in kurtosis_columns:\n",
    "    df[column]=aleatorio.fit_transform(df[[column]])\n",
    "num_columns_with_nan = df.isna().any().sum()\n",
    "print(f\"Number of columns with NaN values: {num_columns_with_nan}\")"
   ]
  },
  {
   "cell_type": "code",
   "execution_count": 243,
   "metadata": {},
   "outputs": [
    {
     "data": {
      "image/png": "[encoded data removed]",
      "text/plain": [
       "<Figure size 640x480 with 1 Axes>"
      ]
     },
     "metadata": {},
     "output_type": "display_data"
    }
   ],
   "source": [
    "sns.heatmap(df.isnull(), cbar=False)\n",
    "plt.tight_layout()  # Adjust the layout to ensure nothing is cut off\n",
    "plt.show()\n",
    "plt.close()"
   ]
  },
  {
   "cell_type": "markdown",
   "metadata": {},
   "source": [
    "# Codificación de variables categóricas\n",
    "-------------\n",
    "[Codificación de variables categóricas](D:/Downloads/codificacion_var_categoricas.pdf)\n",
    "\n",
    "Variables que convertiremos a una variable categórica:\n",
    "- model: Se va a dividir dos variables: Empresa y modelo.\n",
    "- capacity_bytes: los separaremos en distintas categorías dependiendo de la cantidad de almacenamiento\n"
   ]
  },
  {
   "cell_type": "markdown",
   "metadata": {},
   "source": [
    "https://colab.research.google.com/drive/14hSbGZjv6-tNR9ZeQQ3IWw27dUPFaIBY?usp=drive_open#scrollTo=HZGgKjgHr_ph"
   ]
  },
  {
   "cell_type": "code",
   "execution_count": 244,
   "metadata": {},
   "outputs": [
    {
     "name": "stdout",
     "output_type": "stream",
     "text": [
      "                  model model_freq\n",
      "0  HGST HDS5C4040ALE630       Bajo\n",
      "1  HGST HMS5C4040ALE640       Alto\n",
      "2         ST500LM012 HN       Alto\n",
      "3           ST4000DM000   Muy Alto\n",
      "4           ST4000DM000   Muy Alto\n"
     ]
    }
   ],
   "source": [
    "# Calcular la frecuencia de cada modelo\n",
    "model_freq = df['model'].value_counts()\n",
    "\n",
    "# Crear un diccionario para mapear cada modelo a su frecuencia\n",
    "model_freq_dict = model_freq.to_dict()\n",
    "\n",
    "# Crear una nueva columna categórica basada en la frecuencia de uso\n",
    "df['model_freq'] = df['model'].map(model_freq_dict)\n",
    "\n",
    "# Convertir la nueva columna a tipo categórico\n",
    "df['model_freq'] = pd.cut(df['model_freq'], bins=[0, 10, 100, 1000, 10000, float('inf')],\n",
    "                          labels=['Muy Bajo', 'Bajo', 'Medio', 'Alto', 'Muy Alto'])\n",
    "\n",
    "print(df[['model', 'model_freq']].head())"
   ]
  },
  {
   "cell_type": "code",
   "execution_count": 245,
   "metadata": {},
   "outputs": [
    {
     "name": "stdout",
     "output_type": "stream",
     "text": [
      "0             HGST\n",
      "2               ST\n",
      "46         TOSHIBA\n",
      "459        Seagate\n",
      "509            WDC\n",
      "873            WUH\n",
      "980             WD\n",
      "1102            CT\n",
      "1468        Micron\n",
      "2368       Hitachi\n",
      "41825     DELLBOSS\n",
      "150912     MTFDDAV\n",
      "151848    SSDSCKKB\n",
      "Name: brand, dtype: object\n"
     ]
    }
   ],
   "source": [
    "import re\n",
    "\n",
    "def extract_brand(model):\n",
    "    match = re.match(r'^[A-Za-z]+', model)\n",
    "    return match.group(0) if match else None\n",
    "\n",
    "df['brand'] = df['model'].apply(extract_brand)\n",
    "print(df['brand'].drop_duplicates())"
   ]
  },
  {
   "cell_type": "code",
   "execution_count": 246,
   "metadata": {},
   "outputs": [
    {
     "name": "stdout",
     "output_type": "stream",
     "text": [
      "         date   serial_number                 model  capacity_bytes  failure  \\\n",
      "0  2024-07-01  PL1331LAGXN3AH  HGST HDS5C4040ALE630   4000787030016    False   \n",
      "1  2024-07-01  PL2331LAGSTSYJ  HGST HMS5C4040ALE640   4000787030016    False   \n",
      "2  2024-07-01  S2ZYJ9FG405079         ST500LM012 HN    500107862016    False   \n",
      "3  2024-07-01        Z3056CGY           ST4000DM000   4000787030016    False   \n",
      "4  2024-07-01        Z305FT10           ST4000DM000   4000787030016    False   \n",
      "\n",
      "   smart_1_normalized  smart_3_normalized  smart_5_normalized  smart_5_raw  \\\n",
      "0               100.0               130.0               100.0          0.0   \n",
      "1               100.0               128.0               100.0          0.0   \n",
      "2               100.0                94.0               252.0          0.0   \n",
      "3               120.0                92.0               100.0          0.0   \n",
      "4               114.0                91.0               100.0          0.0   \n",
      "\n",
      "   smart_7_normalized  smart_9_normalized  smart_187_normalized  \\\n",
      "0               100.0                91.0                 100.0   \n",
      "1               100.0                89.0                 100.0   \n",
      "2               252.0               100.0                 100.0   \n",
      "3                81.0                17.0                 100.0   \n",
      "4                83.0                17.0                 100.0   \n",
      "\n",
      "   smart_189_normalized  smart_194_normalized  smart_195_normalized  \\\n",
      "0                 100.0                 230.0                   2.0   \n",
      "1                 100.0                 253.0                   1.0   \n",
      "2                 100.0                  64.0                 100.0   \n",
      "3                 100.0                  22.0                  79.0   \n",
      "4                 100.0                  24.0                  82.0   \n",
      "\n",
      "   smart_197_normalized  smart_197_raw model_freq brand  \n",
      "0                 100.0            0.0       Bajo  HGST  \n",
      "1                 100.0            0.0       Alto  HGST  \n",
      "2                 252.0            0.0       Alto    ST  \n",
      "3                 100.0            0.0   Muy Alto    ST  \n",
      "4                 100.0            0.0   Muy Alto    ST  \n"
     ]
    }
   ],
   "source": [
    "print(df.head())"
   ]
  },
  {
   "cell_type": "markdown",
   "metadata": {},
   "source": [
    "Convirtiendo a categórica ordinal capacity_bytes:"
   ]
  },
  {
   "cell_type": "markdown",
   "metadata": {},
   "source": [
    "Aquí hay un problema grave y es que el df empieza a eliminar datos de la columna capacity_bytes y los reemplaza por un -1 a su antojo, he estado 2 horas intentando solucionarlo y no he podido, al parecer al cargar el 2 csv, muchos datos del 1 se reemplazan por -1 en vez de por su dato normal, si solo cargo 1 csv esto no se observa, además de esto parece que NINGUNO de los valores guardados en la columna de capacity_bytes corresponden a ningún valor existente de los .csv, yo al hacer la conversión a df los estoy casteando como int64 que debería tomar espacio suficiente para que se importen y parece que si solo creo el df a partir de 1 csv este error no se observa."
   ]
  },
  {
   "cell_type": "code",
   "execution_count": 262,
   "metadata": {},
   "outputs": [
    {
     "name": "stdout",
     "output_type": "stream",
     "text": [
      "../data/external/data_Q3_2024/data_Q3_2024\\2024-07-01.csv  done\n"
     ]
    }
   ],
   "source": [
    "df = getdata(folder_path, 1)"
   ]
  },
  {
   "cell_type": "code",
   "execution_count": 263,
   "metadata": {},
   "outputs": [
    {
     "name": "stdout",
     "output_type": "stream",
     "text": [
      "['4000787030016' '500107862016' '16000900661248' '250059350016'\n",
      " '8001563222016' '480103981056' '2000398934016' '12000138625024'\n",
      " '10000831348736' '14000519643136' '480036847616' '1000204886016'\n",
      " '18000207937536' '240057409536' '22000969973760' '20000588955648']\n"
     ]
    }
   ],
   "source": [
    "print(df['capacity_bytes'].unique())"
   ]
  },
  {
   "cell_type": "code",
   "execution_count": 264,
   "metadata": {},
   "outputs": [
    {
     "name": "stdout",
     "output_type": "stream",
     "text": [
      "Capacity bytes that are -1 and their corresponding unique serial numbers:\n",
      "[]\n"
     ]
    }
   ],
   "source": [
    "# Filter the dataframe to get rows where capacity_bytes is -1\n",
    "filtered_df = df[df['capacity_bytes'] == -1]\n",
    "\n",
    "# Select the unique serial numbers\n",
    "unique_serial_numbers = filtered_df['serial_number'].unique()\n",
    "\n",
    "# Display the result\n",
    "print(\"Capacity bytes that are -1 and their corresponding unique serial numbers:\")\n",
    "print(unique_serial_numbers)"
   ]
  },
  {
   "cell_type": "markdown",
   "metadata": {},
   "source": [
    "Ahora el error:"
   ]
  },
  {
   "cell_type": "code",
   "execution_count": 265,
   "metadata": {},
   "outputs": [
    {
     "name": "stdout",
     "output_type": "stream",
     "text": [
      "../data/external/data_Q3_2024/data_Q3_2024\\2024-07-01.csv  done\n",
      "../data/external/data_Q3_2024/data_Q3_2024\\2024-07-02.csv  done\n"
     ]
    }
   ],
   "source": [
    "df = getdata(folder_path, 2)"
   ]
  },
  {
   "cell_type": "code",
   "execution_count": 267,
   "metadata": {},
   "outputs": [
    {
     "name": "stdout",
     "output_type": "stream",
     "text": [
      "Capacity bytes that are -1 and their corresponding unique serial numbers:\n",
      "['3050A03PF97G' '3050A03QF97G' '3050A04JF97G' '3060A003F97G'\n",
      " '3060A004F97G' '3060A00AF97G' '3060A00LF97G' '3060A00WF97G'\n",
      " '3060A01JF97G' '3060A01KF97G' '3060A025F97G' '3060A02AF97G'\n",
      " '3060A02DF97G' '3060A02EF97G' '3060A02SF97G' '3060A02TF97G'\n",
      " '3060A02UF97G' '3060A02XF97G' '3060A033F97G' '3060A037F97G'\n",
      " '3060A06PF97G' '3070A002F97G' '3070A02PF97G' '3070A02WF97G'\n",
      " '3070A05UF97G' '3070A09QF97G' '3070A0TNF97G']\n"
     ]
    }
   ],
   "source": [
    "# Filter the dataframe to get rows where capacity_bytes is -1\n",
    "filtered_df = df[df['capacity_bytes'] == '-1']\n",
    "\n",
    "# Select the unique serial numbers\n",
    "unique_serial_numbers = filtered_df['serial_number'].unique()\n",
    "\n",
    "# Display the result\n",
    "print(\"Capacity bytes that are -1 and their corresponding unique serial numbers:\")\n",
    "print(unique_serial_numbers)"
   ]
  },
  {
   "cell_type": "markdown",
   "metadata": {},
   "source": [
    "Crece exponencialmente el reemplazo por -1"
   ]
  },
  {
   "cell_type": "code",
   "execution_count": 270,
   "metadata": {},
   "outputs": [
    {
     "name": "stdout",
     "output_type": "stream",
     "text": [
      "['-1', '10000831348736', '1000204886016', '12000138625024', '14000519643136', '16000900661248', '18000207937536', '20000588955648', '2000398934016', '22000969973760', '240057409536', '250059350016', '4000787030016', '480036847616', '480103981056', '500107862016', '8001563222016']\n",
      "27\n"
     ]
    }
   ],
   "source": [
    "print(sorted(df['capacity_bytes'].unique()))\n",
    "print(df[df['capacity_bytes'] == '-1'].shape[0])"
   ]
  },
  {
   "cell_type": "code",
   "execution_count": null,
   "metadata": {},
   "outputs": [
    {
     "name": "stdout",
     "output_type": "stream",
     "text": [
      "../data/external/data_Q3_2024/data_Q3_2024\\2024-07-01.csv  done\n",
      "../data/external/data_Q3_2024/data_Q3_2024\\2024-07-02.csv  done\n",
      "../data/external/data_Q3_2024/data_Q3_2024\\2024-07-03.csv  done\n",
      "../data/external/data_Q3_2024/data_Q3_2024\\2024-07-04.csv  done\n"
     ]
    }
   ],
   "source": [
    "df = getdata(folder_path, 10)"
   ]
  },
  {
   "cell_type": "code",
   "execution_count": 275,
   "metadata": {},
   "outputs": [
    {
     "name": "stdout",
     "output_type": "stream",
     "text": [
      "['-1', '10000831348736', '1000204886016', '12000138625024', '14000519643136', '16000900661248', '18000207937536', '20000588955648', '2000398934016', '22000969973760', '240057409536', '250059350016', '4000787030016', '480036847616', '480103981056', '500107862016', '8001563222016']\n",
      "27\n"
     ]
    }
   ],
   "source": [
    "print(sorted(df['capacity_bytes'].unique()))\n",
    "print(df[df['capacity_bytes'] == '-1'].shape[0])"
   ]
  },
  {
   "cell_type": "code",
   "execution_count": 248,
   "metadata": {},
   "outputs": [
    {
     "data": {
      "text/plain": [
       "[-8, -7, -6, -5, -4, -3, -2, -1, 0, 1, 2, 3, 4, 5, 6, 7, 8]"
      ]
     },
     "execution_count": 248,
     "metadata": {},
     "output_type": "execute_result"
    }
   ],
   "source": [
    "Var=df['capacity_bytes']                      # Variable categórica ordinal\n",
    "n=Var.nunique()                     # Cardinalidad\n",
    "lim_inf=(n-1)//2 if n%2!=0 else n-1 # Abs del límite inferior\n",
    "step=1 if n%2!=0 else 2             # Intervalo\n",
    "X=range(-lim_inf,lim_inf+1,step)\n",
    "list(X)"
   ]
  },
  {
   "cell_type": "code",
   "execution_count": 249,
   "metadata": {},
   "outputs": [
    {
     "name": "stdout",
     "output_type": "stream",
     "text": [
      "[ 4000787030016   500107862016 16000900661248   250059350016\n",
      "  8001563222016   480103981056  2000398934016 12000138625024\n",
      " 10000831348736 14000519643136   480036847616  1000204886016\n",
      " 18000207937536   240057409536 22000969973760 20000588955648\n",
      "             -1]\n"
     ]
    }
   ],
   "source": [
    "print(Var.unique())"
   ]
  },
  {
   "cell_type": "code",
   "execution_count": 250,
   "metadata": {},
   "outputs": [
    {
     "data": {
      "text/plain": [
       "[-8, -7, -6, -5, -4, -3, -2, -1, 0, 1, 2, 3, 4, 5, 6, 7, 8]"
      ]
     },
     "execution_count": 250,
     "metadata": {},
     "output_type": "execute_result"
    }
   ],
   "source": [
    "beta0=0\n",
    "beta1=1 # beta1>0  ->  codificación creciente. beta1<0  ->  codificación decreciente\n",
    "y=[beta0+beta1*x for x in X]\n",
    "y"
   ]
  },
  {
   "cell_type": "code",
   "execution_count": 251,
   "metadata": {},
   "outputs": [
    {
     "data": {
      "text/plain": [
       "array([  500107862016, 16000900661248,   250059350016,  8001563222016,\n",
       "         480103981056,  2000398934016, 12000138625024, 10000831348736,\n",
       "       14000519643136,   480036847616,  1000204886016, 18000207937536,\n",
       "         240057409536, 22000969973760, 20000588955648,             -1,\n",
       "        4000787030016], dtype=int64)"
      ]
     },
     "execution_count": 251,
     "metadata": {},
     "output_type": "execute_result"
    }
   ],
   "source": [
    "# Asociamos estos valores a las categorías ordenadas de 'Var'\n",
    "# Var.unique()\n",
    "Var_ord=np.concatenate([Var.unique()[1:],Var.unique()[:1]])\n",
    "Var_ord"
   ]
  },
  {
   "cell_type": "markdown",
   "metadata": {},
   "source": [
    "# Escalamiento"
   ]
  },
  {
   "cell_type": "code",
   "execution_count": null,
   "metadata": {},
   "outputs": [],
   "source": []
  }
 ],
 "metadata": {
  "kernelspec": {
   "display_name": "IngCar",
   "language": "python",
   "name": "python3"
  },
  "language_info": {
   "codemirror_mode": {
    "name": "ipython",
    "version": 3
   },
   "file_extension": ".py",
   "mimetype": "text/x-python",
   "name": "python",
   "nbconvert_exporter": "python",
   "pygments_lexer": "ipython3",
   "version": "3.12.7"
  }
 },
 "nbformat": 4,
 "nbformat_minor": 2
}
